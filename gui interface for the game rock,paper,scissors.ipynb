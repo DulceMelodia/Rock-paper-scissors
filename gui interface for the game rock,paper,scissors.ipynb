{
 "cells": [
  {
   "cell_type": "code",
   "execution_count": 1,
   "id": "feec138e",
   "metadata": {},
   "outputs": [],
   "source": [
    "import random\n",
    "import tkinter as tk"
   ]
  },
  {
   "cell_type": "code",
   "execution_count": 2,
   "id": "a55b6a09",
   "metadata": {},
   "outputs": [],
   "source": [
    "window=tk.Tk()\n",
    "window.geometry(\"300x400\")\n",
    "window.title(\"rock paper scissors\")\n",
    "user_score=0\n",
    "comp_score=0\n",
    "user_choice=\"\"\n",
    "comp_choice=\"\"\n"
   ]
  },
  {
   "cell_type": "code",
   "execution_count": 3,
   "id": "e4733b26",
   "metadata": {},
   "outputs": [],
   "source": [
    "def choice_to_number(choice):\n",
    "    rps={'rock':0,'paper':1,'scissors':2}\n",
    "    return rps[choice]\n",
    "def number_to_choice(number):\n",
    "    rps ={0:'rock',1:'paper',2:'scissors'}\n",
    "    return rps[number]"
   ]
  },
  {
   "cell_type": "code",
   "execution_count": 4,
   "id": "fbae470f",
   "metadata": {},
   "outputs": [],
   "source": [
    "def random_computer_choice():\n",
    "    return random.choice(['rock','paper','scissors'])"
   ]
  },
  {
   "cell_type": "code",
   "execution_count": 5,
   "id": "defede46",
   "metadata": {},
   "outputs": [],
   "source": [
    "def result(human_choice,comp_choice):\n",
    "    global user_score\n",
    "    global comp_score\n",
    "    user= choice_to_number(human_choice)\n",
    "    comp= choice_to_number(comp_choice)\n",
    "    \n",
    "    if (user==comp):\n",
    "        print(\"Tie\")\n",
    "        \n",
    "    elif((user-comp)%3==1):\n",
    "        print(\"You win\")\n",
    "        user_score+=1\n",
    "        \n",
    "    else:\n",
    "        print(\"Computer wins\")\n",
    "        comp_score+=1\n",
    "        \n",
    "    text_area = tk.Text(master=window,height=12,width=30,bg=\"white\")\n",
    "    \n",
    "    text_area.grid(column=0,row=4)\n",
    "    \n",
    "    answer = \"Your Choice: {uc} \\nComputer's Choice : {cc} \\n Your Score : {u} \\n Computer Score : {c} \".format(uc=user_choice,cc=comp_choice,u=user_score,c=comp_score)  \n",
    "    \n",
    "    text_area.insert(tk.END,answer)"
   ]
  },
  {
   "cell_type": "code",
   "execution_count": 6,
   "id": "a8d2680c",
   "metadata": {},
   "outputs": [],
   "source": [
    "def rock():\n",
    "    global user_choice\n",
    "    global comp_choice\n",
    "    user_choice='rock'\n",
    "    comp_choice=random_computer_choice()\n",
    "    result(user_choice,comp_choice)\n",
    "    \n",
    "def paper():\n",
    "    global user_choice\n",
    "    global comp_choice\n",
    "    user_choice='paper'\n",
    "    comp_choice= random_computer_choice()\n",
    "    result(user_choice,comp_choice)\n",
    "    \n",
    "def scissors():\n",
    "    global user_choice\n",
    "    global comp_choice\n",
    "    user_choice = 'scissors'\n",
    "    comp_choice = random_computer_choice()\n",
    "    result(user_choice,comp_choice)"
   ]
  },
  {
   "cell_type": "code",
   "execution_count": 7,
   "id": "afba9c30",
   "metadata": {},
   "outputs": [],
   "source": [
    "button1= tk.Button(window,text='   rock   ',bg='blue',command=rock)\n",
    "button1.grid(column=0,row=1)\n",
    "button2= tk.Button(window,text='   paper  ',bg='pink',command=paper)\n",
    "button2.grid(column=0,row=2)\n",
    "button3= tk.Button(window,text='   scissors  ',bg='lightgreen',command=scissors)\n",
    "button3.grid(column=0,row=3)"
   ]
  },
  {
   "cell_type": "code",
   "execution_count": 8,
   "id": "6d1c34f0",
   "metadata": {},
   "outputs": [
    {
     "name": "stdout",
     "output_type": "stream",
     "text": [
      "Computer wins\n",
      "Computer wins\n",
      "Computer wins\n",
      "You win\n"
     ]
    }
   ],
   "source": [
    "window.mainloop()"
   ]
  },
  {
   "cell_type": "code",
   "execution_count": null,
   "id": "a5abd048",
   "metadata": {},
   "outputs": [],
   "source": []
  }
 ],
 "metadata": {
  "kernelspec": {
   "display_name": "Python 3 (ipykernel)",
   "language": "python",
   "name": "python3"
  },
  "language_info": {
   "codemirror_mode": {
    "name": "ipython",
    "version": 3
   },
   "file_extension": ".py",
   "mimetype": "text/x-python",
   "name": "python",
   "nbconvert_exporter": "python",
   "pygments_lexer": "ipython3",
   "version": "3.9.12"
  }
 },
 "nbformat": 4,
 "nbformat_minor": 5
}
